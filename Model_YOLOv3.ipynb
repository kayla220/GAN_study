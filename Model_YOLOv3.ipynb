{
 "cells": [
  {
   "cell_type": "code",
   "execution_count": null,
   "metadata": {
    "collapsed": true
   },
   "outputs": [],
   "source": [
    "import os\n",
    "import sys"
   ]
  },
  {
   "cell_type": "markdown",
   "metadata": {},
   "source": [
    "### YOLOv3객체 검출: Real-Time Object Detection \n",
    "ver3는 2018년 4월 발표됨 [paper](https://pjreddie.com/media/files/papers/YOLOv3.pdf)\n",
    "\n",
    "##### YOLO stance for 'You only look once' \n",
    "- Processes images at 30 fps on a Pascal Titan X \n",
    "- mAP of 57..9% on COCO test-dev\n",
    "- Compare to RetinaNet-50 and Retina-101 YOLOv3 is extremely fast and accurate. By changing the size of the model, cna esaily tradeoff btwn speed and accuracy. (No retraining required) \n",
    "\n",
    "\n",
    "##### Advantages\n",
    "- Looks at the whole image at test time so its predictions are informed by global context in the image\n",
    "- Makes prediction with a single network evaluations unlike R-CNN requires thousnads for a single image \n",
    "\n",
    "##### Version 3\n",
    "- YOLOv3 uses a few tricks to improve training and increase performace\n",
    "- => Multi-scale predictions\n",
    "- => Better backbone classifier "
   ]
  },
  {
   "attachments": {},
   "cell_type": "markdown",
   "metadata": {},
   "source": [
    "<img src=\"yolov3_performance.png\">\n",
    "\n",
    "* inference time (ms) : 실행 시간\n",
    "* mAP : 정확도\n",
    "* [COCO](https://cocodataset.org/#home) : MS에서 공개한 데이터셋 (객체검출에 특화되어있다) 80개의 클래스"
   ]
  },
  {
   "cell_type": "markdown",
   "metadata": {},
   "source": [
    "### Network architecture\n",
    "##### Input\n",
    "- INPUT : **416x416**, Normalised [0,1], RGB (so in opencv, need to swap the RGB to BGR)\n",
    "* Size: (320, 320), (416, 416), (608, 608) <br> Scale: 0.00392=1/255 <br> Mean: [0,0,0] <br> RGB: true \n",
    "\n",
    "##### Output\n",
    "- 3 OUTPUT : Layer82(13x13)x(3)x(4+1+80)=(가로x세로)x3개의 박스 variation x (4개의 박스 좌표값 +  컨피던스값 + 각각의 객체에 대한 확률)=**507x85** <br> Layer94 : (26x26)x3x(4+1+80) = **2028x85** <br> Layer106 :(52x52)x3(4+1+80) = **8112x85** <br> => 3개를 조합해서 원하는 객체검출\n",
    "- outs[0].shape = (507, 85) <br> outs[1].shape = (2028, 85) <br> outs.[2].shape = (8112, 85) \n",
    "\n",
    "\n",
    "###### input을 320, 416, 608로 다르게 줄 수 있다. 속도와 정확도의 tradeoff."
   ]
  },
  {
   "cell_type": "markdown",
   "metadata": {},
   "source": [
    "<img src=\"yolov3_network.png\">\n",
    "\n",
    "* Image from [blog.paperspace.com](https://blog.paperspace.com/how-to-implement-a-yolo-object-detector-in-pytorch)"
   ]
  },
  {
   "cell_type": "markdown",
   "metadata": {},
   "source": [
    "1. Box Co-ordinates: Bounding box <br> tx, ty(박스의 가운데점) tw, th(가로 세로 크기) \n",
    "2. Objectness Score(p0) : 객체를 잘 찾았는가  \n",
    "3. Class Scores"
   ]
  },
  {
   "cell_type": "code",
   "execution_count": null,
   "metadata": {},
   "outputs": [],
   "source": []
  }
 ],
 "metadata": {
  "kernelspec": {
   "display_name": "Python 3",
   "language": "python",
   "name": "python3"
  },
  "language_info": {
   "codemirror_mode": {
    "name": "ipython",
    "version": 3
   },
   "file_extension": ".py",
   "mimetype": "text/x-python",
   "name": "python",
   "nbconvert_exporter": "python",
   "pygments_lexer": "ipython3",
   "version": "3.7.5"
  }
 },
 "nbformat": 4,
 "nbformat_minor": 2
}
